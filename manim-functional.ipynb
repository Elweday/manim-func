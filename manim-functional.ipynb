{
 "cells": [
  {
   "cell_type": "markdown",
   "id": "6ecf885f-7873-4137-b06a-98569bc39246",
   "metadata": {},
   "source": [
    "# Manim Functional Approach "
   ]
  },
  {
   "cell_type": "markdown",
   "id": "8bb1be9e-aea6-4786-926d-8cdf1b40ed7d",
   "metadata": {},
   "source": [
    "- Every Scene is a function then converted to a class that has exactly one function `construct`\n",
    "- Every Scene should contain only the animations and Scene-Specific-Mobjects\n",
    "- Instead of Writing each `Tex Mobject` manually, using the built-in functionality of sympy is easier <b>But it has less control</b>\n",
    "- Every recurring pattern in the code should be abstracted functionally\n",
    "- This approach can be code-heavy\n",
    "- It can also used alongside with `ffmpeg` and `SoX` to merge scenes and deal with audio libs for just-code experience\n",
    "- `Sympy` has a lot potential to work along side with manim:\n",
    "    <details>\n",
    "  <summary> What can it do ? </summary>\n",
    "    - Algebra: Symbolic manipulation, equation solving, polynomial manipulation, simplification, factorization, expansion, substitution, etc.\n",
    "\n",
    "    - Calculus: Differentiation, integration, limits, series expansion, Taylor series, differential equations, numerical integration, etc.\n",
    "\n",
    "    - Number Theory: Prime numbers, factorization, modular arithmetic, continued fractions, divisibility testing, prime factorization, etc.\n",
    "\n",
    "    - Discrete Mathematics: Permutations, combinations, binomial coefficients, partitions, graph theory, matrix representation, random variables, probability distributions, etc.\n",
    "\n",
    "    - Geometry: Points, lines, circles, polygons, angles, intersections, transformations, 2D plotting, 3D plotting, geometric algorithms, etc.\n",
    "\n",
    "    - Linear Algebra: Matrices, matrix operations, determinants, eigenvalues, eigenvectors, matrix factorization, matrix inversion, solving linear systems, least squares, etc.\n",
    "\n",
    "    - Combinatorics: Combinatorial enumeration, permutations, combinations, partitions, generating functions, Stirling numbers, Catalan numbers, etc.\n",
    "\n",
    "    - Statistics: Probability distributions, random variables, statistical functions, statistical testing, hypothesis testing, confidence intervals, etc.\n",
    "\n",
    "    - Physics: Mechanics, classical physics, quantum physics, statistical mechanics, optics, electromagnetism, quantum computing, etc.\n",
    "\n",
    "    - Differential Geometry: Manifolds, curvature, tensors, coordinate systems, differential forms, Lie derivatives, etc.\n",
    "\n",
    "    - Logic: Propositional logic, predicate logic, logical operators, truth tables, logic gates, logical equivalences, Boolean algebra, etc.\n",
    "\n",
    "    - Complex Analysis: Complex numbers, complex functions, complex integration, residues, contour integration, etc.\n",
    "</details>\n",
    "\n",
    "    \n",
    "\n",
    "<b>Learn more about [Sympy](https://docs.sympy.org/latest/index.html) </b>"
   ]
  },
  {
   "cell_type": "code",
   "execution_count": 180,
   "id": "2c25e70f-1fde-493f-ab57-8b59fc692d17",
   "metadata": {
    "execution": {
     "iopub.execute_input": "2023-05-20T06:33:07.526359Z",
     "iopub.status.busy": "2023-05-20T06:33:07.525369Z",
     "iopub.status.idle": "2023-05-20T06:33:07.535879Z",
     "shell.execute_reply": "2023-05-20T06:33:07.534879Z",
     "shell.execute_reply.started": "2023-05-20T06:33:07.526359Z"
    },
    "tags": []
   },
   "outputs": [],
   "source": [
    "from manim import *\n",
    "import sympy as sp"
   ]
  },
  {
   "cell_type": "markdown",
   "id": "1673fd8a-bdcc-49cb-b011-713db738977e",
   "metadata": {},
   "source": [
    "## Variable definitions and utilites"
   ]
  },
  {
   "cell_type": "code",
   "execution_count": 215,
   "id": "315f5b6c-088a-4e36-8a79-18c9f0730162",
   "metadata": {
    "execution": {
     "iopub.execute_input": "2023-05-20T06:45:58.337603Z",
     "iopub.status.busy": "2023-05-20T06:45:58.336603Z",
     "iopub.status.idle": "2023-05-20T06:45:58.351304Z",
     "shell.execute_reply": "2023-05-20T06:45:58.349770Z",
     "shell.execute_reply.started": "2023-05-20T06:45:58.337603Z"
    },
    "tags": []
   },
   "outputs": [],
   "source": [
    "x,n = sp.symbols(\"x n\")\n",
    "def sequencer(expr, var):\n",
    "  \"\"\"Turns a Sympy expression into a funtion for mapping\"\"\"\n",
    "  def create_mobject(nTerms):\n",
    "    \"\"\"The tex mobject that would be transformed\"\"\"\n",
    "    return Tex(\"$ \"+ sp.latex(sp.sequence(expr, (var,0,nTerms))) +\" $\")\n",
    "  return create_mobject\n",
    "\n",
    "def Transfrom(mobs, Transform_Func = TransformMatchingShapes):\n",
    "  \"\"\"Generator that takes an iterable of mobjects and returns a generator of transformations\"\"\"\n",
    "  mob1 = next(mobs)\n",
    "  for mob2 in mobs:\n",
    "    yield Transform_Func(mob1, mob2)\n",
    "    mob1 = mob2"
   ]
  },
  {
   "cell_type": "markdown",
   "id": "9aeb073f-e7ef-4d09-8e1c-443590a29c94",
   "metadata": {
    "execution": {
     "iopub.execute_input": "2023-05-20T06:52:09.749959Z",
     "iopub.status.busy": "2023-05-20T06:52:09.748959Z",
     "iopub.status.idle": "2023-05-20T06:52:09.776600Z",
     "shell.execute_reply": "2023-05-20T06:52:09.775634Z",
     "shell.execute_reply.started": "2023-05-20T06:52:09.749959Z"
    },
    "tags": []
   },
   "source": [
    "## Scene1 "
   ]
  },
  {
   "cell_type": "markdown",
   "id": "b58bd2a0-259d-4c4e-bb1d-2da368dd9638",
   "metadata": {},
   "source": [
    "This is a fully-functioning scene"
   ]
  },
  {
   "cell_type": "code",
   "execution_count": 230,
   "id": "f216e55f-71ae-4203-bb2c-edf6b4f84688",
   "metadata": {
    "execution": {
     "iopub.execute_input": "2023-05-20T06:57:48.577155Z",
     "iopub.status.busy": "2023-05-20T06:57:48.575161Z",
     "iopub.status.idle": "2023-05-20T06:57:48.586920Z",
     "shell.execute_reply": "2023-05-20T06:57:48.585921Z",
     "shell.execute_reply.started": "2023-05-20T06:57:48.576165Z"
    },
    "tags": []
   },
   "outputs": [],
   "source": [
    "def S_tex(self):\n",
    "  mobs = map(sequencer(x**n + 5*x), range(0,4))\n",
    "  for t in Transfrom(mobs, Transform_Func = TransformMatchingShapes):\n",
    "    self.play(t)"
   ]
  },
  {
   "cell_type": "code",
   "execution_count": null,
   "id": "88658b7f-7854-4e7b-a329-2571758ca601",
   "metadata": {},
   "outputs": [],
   "source": [
    "# Scenes can be sorted and manipulated, combined with metadata"
   ]
  },
  {
   "cell_type": "code",
   "execution_count": 231,
   "id": "ecd62fde-5ec3-4576-9797-e11ed6d1b39b",
   "metadata": {
    "execution": {
     "iopub.execute_input": "2023-05-20T06:57:48.731324Z",
     "iopub.status.busy": "2023-05-20T06:57:48.729319Z",
     "iopub.status.idle": "2023-05-20T06:57:48.748677Z",
     "shell.execute_reply": "2023-05-20T06:57:48.747675Z",
     "shell.execute_reply.started": "2023-05-20T06:57:48.731324Z"
    },
    "tags": []
   },
   "outputs": [],
   "source": [
    "Scenes = {\n",
    "  S_tex:{\n",
    "    \"render\" : True,\n",
    "    \"Scene_Type\":Scene,\n",
    "    \"Some Scene Meta Data\" : 100_000_000\n",
    "  }\n",
    "}"
   ]
  },
  {
   "cell_type": "code",
   "execution_count": 232,
   "id": "ed82843d-1a29-4b86-9e56-a54ff932096e",
   "metadata": {
    "execution": {
     "iopub.execute_input": "2023-05-20T06:57:48.888453Z",
     "iopub.status.busy": "2023-05-20T06:57:48.888453Z",
     "iopub.status.idle": "2023-05-20T06:57:50.456415Z",
     "shell.execute_reply": "2023-05-20T06:57:50.456415Z",
     "shell.execute_reply.started": "2023-05-20T06:57:48.888453Z"
    },
    "tags": []
   },
   "outputs": [
    {
     "name": "stderr",
     "output_type": "stream",
     "text": [
      "                                                                                                                       \r"
     ]
    },
    {
     "data": {
      "text/html": [
       "<video src=\"media\\jupyter\\S_tex@2023-05-20@08-57-50.mp4\" controls autoplay loop style=\"max-width: 60%;\"  >\n",
       "      Your browser does not support the <code>video</code> element.\n",
       "    </video>"
      ],
      "text/plain": [
       "<IPython.core.display.Video object>"
      ]
     },
     "metadata": {},
     "output_type": "display_data"
    }
   ],
   "source": [
    "for constructor, meta in Scenes.items():\n",
    "  SceneName = constructor.__name__\n",
    "  globals()[SceneName]  = type(SceneName,(meta[\"Scene_Type\"], ),{\"construct\": constructor})\n",
    "  if meta[\"render\"]:\n",
    "    %manim -ql -v WARNING --disable_caching $SceneName\n"
   ]
  },
  {
   "cell_type": "code",
   "execution_count": null,
   "id": "f4e58c06-5984-4c73-8cfb-c601cd155f20",
   "metadata": {},
   "outputs": [],
   "source": []
  }
 ],
 "metadata": {
  "kernelspec": {
   "display_name": "Python 3 (ipykernel)",
   "language": "python",
   "name": "python3"
  },
  "language_info": {
   "codemirror_mode": {
    "name": "ipython",
    "version": 3
   },
   "file_extension": ".py",
   "mimetype": "text/x-python",
   "name": "python",
   "nbconvert_exporter": "python",
   "pygments_lexer": "ipython3",
   "version": "3.10.4"
  }
 },
 "nbformat": 4,
 "nbformat_minor": 5
}
